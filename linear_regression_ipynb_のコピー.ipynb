{
  "nbformat": 4,
  "nbformat_minor": 0,
  "metadata": {
    "colab": {
      "name": "linear_regression.ipynb のコピー",
      "version": "0.3.2",
      "provenance": [],
      "collapsed_sections": []
    },
    "kernelspec": {
      "name": "python3",
      "display_name": "Python 3"
    }
  },
  "cells": [
    {
      "cell_type": "code",
      "metadata": {
        "id": "iddV6jaf3-cN",
        "colab_type": "code",
        "colab": {}
      },
      "source": [
        "import numpy as np\n",
        "import matplotlib.pyplot as plt\n",
        "import pandas as pd\n",
        "\n",
        "%matplotlib inline"
      ],
      "execution_count": 0,
      "outputs": []
    },
    {
      "cell_type": "code",
      "metadata": {
        "id": "RAhjwCYmDaVr",
        "colab_type": "code",
        "colab": {}
      },
      "source": [
        "# Google ドライブをマウントするには、このセルを実行してください。\n",
        "from google.colab import drive\n",
        "drive.mount('/content/drive')"
      ],
      "execution_count": 0,
      "outputs": []
    },
    {
      "cell_type": "code",
      "metadata": {
        "id": "lWlmAXOB4IXl",
        "colab_type": "code",
        "outputId": "fb034911-9a1e-4299-b3c5-587c28e775d8",
        "colab": {
          "base_uri": "https://localhost:8080/",
          "height": 127
        }
      },
      "source": [
        "from google.colab import drive\n",
        "drive.mount('/content/drive')"
      ],
      "execution_count": 2,
      "outputs": [
        {
          "output_type": "stream",
          "text": [
            "Go to this URL in a browser: https://accounts.google.com/n",
            "\n",
            "Enter your authorization code:\n",
            "··········\n",
            "Mounted at /content/drive\n"
          ],
          "name": "stdout"
        }
      ]
    },
    {
      "cell_type": "code",
      "metadata": {
        "id": "6oBHw7o94bcs",
        "colab_type": "code",
        "outputId": "9a3e1c17-b12d-4d36-b2ed-931655e3b9fe",
        "colab": {
          "base_uri": "https://localhost:8080/",
          "height": 35
        }
      },
      "source": [
        "import os\n",
        "dir_path = 'drive/My Drive/Colab Notebooks/linear_regression'\n",
        "os.listdir(dir_path)"
      ],
      "execution_count": 3,
      "outputs": [
        {
          "output_type": "execute_result",
          "data": {
            "text/plain": [
              "['linear_regression.ipynb', 'ta_ice.csv']"
            ]
          },
          "metadata": {
            "tags": []
          },
          "execution_count": 3
        }
      ]
    },
    {
      "cell_type": "code",
      "metadata": {
        "id": "XG_c2d7K4lQl",
        "colab_type": "code",
        "colab": {}
      },
      "source": [
        "df = pd.read_csv(os.path.join(dir_path, 'ta_ice.csv'))"
      ],
      "execution_count": 0,
      "outputs": []
    },
    {
      "cell_type": "code",
      "metadata": {
        "id": "-llNtlIa416N",
        "colab_type": "code",
        "outputId": "99f592b4-26ff-42a4-99d3-055cd4080b67",
        "colab": {
          "base_uri": "https://localhost:8080/",
          "height": 142
        }
      },
      "source": [
        "df.head(3)"
      ],
      "execution_count": 5,
      "outputs": [
        {
          "output_type": "execute_result",
          "data": {
            "text/html": [
              "<div>\n",
              "<style scoped>\n",
              "    .dataframe tbody tr th:only-of-type {\n",
              "        vertical-align: middle;\n",
              "    }\n",
              "\n",
              "    .dataframe tbody tr th {\n",
              "        vertical-align: top;\n",
              "    }\n",
              "\n",
              "    .dataframe thead th {\n",
              "        text-align: right;\n",
              "    }\n",
              "</style>\n",
              "<table border=\"1\" class=\"dataframe\">\n",
              "  <thead>\n",
              "    <tr style=\"text-align: right;\">\n",
              "      <th></th>\n",
              "      <th>date</th>\n",
              "      <th>t_avg</th>\n",
              "      <th>icecream_sales</th>\n",
              "    </tr>\n",
              "  </thead>\n",
              "  <tbody>\n",
              "    <tr>\n",
              "      <th>0</th>\n",
              "      <td>2010-01-01</td>\n",
              "      <td>7.0</td>\n",
              "      <td>362</td>\n",
              "    </tr>\n",
              "    <tr>\n",
              "      <th>1</th>\n",
              "      <td>2010-02-01</td>\n",
              "      <td>6.5</td>\n",
              "      <td>305</td>\n",
              "    </tr>\n",
              "    <tr>\n",
              "      <th>2</th>\n",
              "      <td>2010-03-01</td>\n",
              "      <td>9.1</td>\n",
              "      <td>383</td>\n",
              "    </tr>\n",
              "  </tbody>\n",
              "</table>\n",
              "</div>"
            ],
            "text/plain": [
              "         date  t_avg  icecream_sales\n",
              "0  2010-01-01    7.0             362\n",
              "1  2010-02-01    6.5             305\n",
              "2  2010-03-01    9.1             383"
            ]
          },
          "metadata": {
            "tags": []
          },
          "execution_count": 5
        }
      ]
    },
    {
      "cell_type": "code",
      "metadata": {
        "id": "xSW40GFj42cg",
        "colab_type": "code",
        "outputId": "ec329ab0-9356-4e09-fb67-16f6134e8031",
        "colab": {
          "base_uri": "https://localhost:8080/",
          "height": 1000
        }
      },
      "source": [
        "df[['t_avg', 'icecream_sales']].values"
      ],
      "execution_count": 6,
      "outputs": [
        {
          "output_type": "execute_result",
          "data": {
            "text/plain": [
              "array([[   7. ,  362. ],\n",
              "       [   6.5,  305. ],\n",
              "       [   9.1,  383. ],\n",
              "       [  12.4,  464. ],\n",
              "       [  19. ,  752. ],\n",
              "       [  23.6,  841. ],\n",
              "       [  28. , 1211. ],\n",
              "       [  29.6, 1451. ],\n",
              "       [  25.1,  864. ],\n",
              "       [  18.9,  504. ],\n",
              "       [  13.5,  351. ],\n",
              "       [   9.9,  423. ],\n",
              "       [   5.1,  346. ],\n",
              "       [   7. ,  289. ],\n",
              "       [   8.1,  329. ],\n",
              "       [  14.5,  462. ],\n",
              "       [  18.5,  672. ],\n",
              "       [  22.8,  791. ],\n",
              "       [  27.3, 1265. ],\n",
              "       [  27.5, 1241. ],\n",
              "       [  25.1,  767. ],\n",
              "       [  19.5,  516. ],\n",
              "       [  14.9,  393. ],\n",
              "       [   7.5,  423. ],\n",
              "       [   4.8,  339. ],\n",
              "       [   5.4,  274. ],\n",
              "       [   8.8,  385. ],\n",
              "       [  14.5,  524. ],\n",
              "       [  19.6,  671. ],\n",
              "       [  21.4,  798. ],\n",
              "       [  26.4, 1165. ],\n",
              "       [  29.1, 1332. ],\n",
              "       [  26.2,  849. ],\n",
              "       [  19.4,  515. ],\n",
              "       [  12.7,  326. ],\n",
              "       [   7.3,  414. ],\n",
              "       [   5.5,  363. ],\n",
              "       [   6.2,  322. ],\n",
              "       [  12.1,  438. ],\n",
              "       [  15.2,  525. ],\n",
              "       [  19.8,  761. ],\n",
              "       [  22.9,  878. ],\n",
              "       [  27.3, 1234. ],\n",
              "       [  29.2, 1437. ],\n",
              "       [  25.2,  794. ],\n",
              "       [  19.8,  549. ],\n",
              "       [  13.5,  370. ],\n",
              "       [   8.3,  445. ],\n",
              "       [   6.3,  396. ],\n",
              "       [   5.9,  309. ],\n",
              "       [  10.4,  447. ],\n",
              "       [  15. ,  520. ],\n",
              "       [  20.3,  803. ],\n",
              "       [  23.4,  900. ],\n",
              "       [  26.8, 1202. ],\n",
              "       [  27.7, 1238. ],\n",
              "       [  23.2,  748. ],\n",
              "       [  19.1,  570. ],\n",
              "       [  14.2,  419. ],\n",
              "       [   6.7,  455. ]])"
            ]
          },
          "metadata": {
            "tags": []
          },
          "execution_count": 6
        }
      ]
    },
    {
      "cell_type": "code",
      "metadata": {
        "id": "--lEJB5W45TP",
        "colab_type": "code",
        "colab": {}
      },
      "source": [
        "def f (x,w,b):\n",
        "  return w*x+b"
      ],
      "execution_count": 0,
      "outputs": []
    },
    {
      "cell_type": "code",
      "metadata": {
        "id": "fnQw9Y_fENYR",
        "colab_type": "code",
        "colab": {
          "base_uri": "https://localhost:8080/",
          "height": 287
        },
        "outputId": "dd9175d0-5d42-426b-a43d-ec2842b927d8"
      },
      "source": [
        "plt.scatter(df['t_avg'].values,df['icecream_sales'].values)\n",
        "# plt.plot(df['t_avg'].values,f(df['t_avg'],values,0.5))"
      ],
      "execution_count": 15,
      "outputs": [
        {
          "output_type": "execute_result",
          "data": {
            "text/plain": [
              "<matplotlib.collections.PathCollection at 0x7f28190fcf60>"
            ]
          },
          "metadata": {
            "tags": []
          },
          "execution_count": 15
        },
        {
          "output_type": "display_data",
          "data": {
            "image/png": "[encoded data removed]",
            "text/plain": [
              "<Figure size 432x288 with 1 Axes>"
            ]
          },
          "metadata": {
            "tags": []
          }
        }
      ]
    },
    {
      "cell_type": "code",
      "metadata": {
        "id": "gJNfy_5yGwVr",
        "colab_type": "code",
        "colab": {
          "base_uri": "https://localhost:8080/",
          "height": 305
        },
        "outputId": "a53b9bab-99af-4ce0-b41d-879192daac75"
      },
      "source": [
        "import numpy as np\n",
        "import matplotlib.pyplot as plt\n",
        "\n",
        "x = np.array([0.0, 1.0, 2.0, 3.0,  4.0,  5.0])\n",
        "y = np.array([0.0, 0.8, 0.9, 0.1, -0.8, -1.0])\n",
        "z = np.polyfit(x, y, 3)\n",
        "\n",
        "p = np.poly1d(z)\n",
        "p30 = np.poly1d(np.polyfit(x, y, 30))\n",
        "xp = np.linspace(-2, 6, 100)\n",
        "\n",
        "plt.plot(x, y, '.', xp, p(xp), '-', xp, p30(xp), '*')\n",
        "plt.ylim(-2,2)\n",
        "plt.show()"
      ],
      "execution_count": 17,
      "outputs": [
        {
          "output_type": "stream",
          "text": [
            "/usr/local/lib/python3.6/dist-packages/ipykernel_launcher.py:9: RankWarning: Polyfit may be poorly conditioned\n",
            "  if __name__ == '__main__':\n"
          ],
          "name": "stderr"
        },
        {
          "output_type": "display_data",
          "data": {
            "image/png": "[encoded data removed]",
            "text/plain": [
              "<Figure size 432x288 with 1 Axes>"
            ]
          },
          "metadata": {
            "tags": []
          }
        }
      ]
    },
    {
      "cell_type": "code",
      "metadata": {
        "id": "DQbhT9xaHqu_",
        "colab_type": "code",
        "colab": {}
      },
      "source": [
        "df1 = df['t_avg']\n",
        "df2 = df['icecream_sales']"
      ],
      "execution_count": 0,
      "outputs": []
    },
    {
      "cell_type": "code",
      "metadata": {
        "id": "Z8HliiMKH6ED",
        "colab_type": "code",
        "colab": {}
      },
      "source": [
        "X = df1.values\n",
        "Y = df2.values"
      ],
      "execution_count": 0,
      "outputs": []
    },
    {
      "cell_type": "code",
      "metadata": {
        "id": "vwsx02HyIXts",
        "colab_type": "code",
        "colab": {
          "base_uri": "https://localhost:8080/",
          "height": 295
        },
        "outputId": "8483706d-ee8f-44e7-ab45-85bbc27b7f70"
      },
      "source": [
        "plt.title('Title')\n",
        "plt.scatter(X, Y)\n",
        "plt.xlabel('x-label')\n",
        "plt.ylabel('y-label')\n",
        "plt.grid()\n",
        "plt.show()"
      ],
      "execution_count": 27,
      "outputs": [
        {
          "output_type": "display_data",
          "data": {
            "image/png": "[encoded data removed]",
            "text/plain": [
              "<Figure size 432x288 with 1 Axes>"
            ]
          },
          "metadata": {
            "tags": []
          }
        }
      ]
    },
    {
      "cell_type": "code",
      "metadata": {
        "id": "JaJc5w1aJAUM",
        "colab_type": "code",
        "colab": {
          "base_uri": "https://localhost:8080/",
          "height": 53
        },
        "outputId": "0d37bd11-5127-4620-d9a5-782f73b9cdee"
      },
      "source": [
        "# 平均\n",
        "np.average(df1)\n",
        "# 分散\n",
        "np.var(df1)\n",
        "# 標準偏差\n",
        "np.std(df1)\n",
        "# 共分散\n",
        "np.cov(df1,df2)\n",
        "# 相関係数\n",
        "np.corrcoef(df1,df2)"
      ],
      "execution_count": 62,
      "outputs": [
        {
          "output_type": "execute_result",
          "data": {
            "text/plain": [
              "array([[1.       , 0.9051543],\n",
              "       [0.9051543, 1.       ]])"
            ]
          },
          "metadata": {
            "tags": []
          },
          "execution_count": 62
        }
      ]
    },
    {
      "cell_type": "code",
      "metadata": {
        "id": "b3CQhIWJMg8d",
        "colab_type": "code",
        "colab": {}
      },
      "source": [
        "def w(x,y):\n",
        "    N = x.shape[0]\n",
        "    return( N*np.sum(x*y) - np.sum(x) * np.sum(y) )/(N*np.sum(x**2) - (np.sum(x)**2))\n",
        "    "
      ],
      "execution_count": 0,
      "outputs": []
    },
    {
      "cell_type": "code",
      "metadata": {
        "id": "GX358IDDNlSq",
        "colab_type": "code",
        "colab": {
          "base_uri": "https://localhost:8080/",
          "height": 35
        },
        "outputId": "104a5987-12a5-4ff1-c919-7eab2a73eaf8"
      },
      "source": [
        "w(df1,df2)"
      ],
      "execution_count": 72,
      "outputs": [
        {
          "output_type": "execute_result",
          "data": {
            "text/plain": [
              "37.90009660566073"
            ]
          },
          "metadata": {
            "tags": []
          },
          "execution_count": 72
        }
      ]
    },
    {
      "cell_type": "code",
      "metadata": {
        "id": "d6W1SXrFPQWb",
        "colab_type": "code",
        "colab": {}
      },
      "source": [
        "def b(x,y):\n",
        "    N = x.shape[0]\n",
        "    return( np.sum(x**2) *np.sum(y)  - np.sum(x*y) * np.sum(x) )/(N*np.sum(x**2) - (np.sum(x)**2))"
      ],
      "execution_count": 0,
      "outputs": []
    },
    {
      "cell_type": "code",
      "metadata": {
        "id": "QuhOV3r0PpbU",
        "colab_type": "code",
        "colab": {
          "base_uri": "https://localhost:8080/",
          "height": 35
        },
        "outputId": "57f4ea2d-343d-4150-df60-3a8dc72ca0bd"
      },
      "source": [
        "b(df1,df2)"
      ],
      "execution_count": 77,
      "outputs": [
        {
          "output_type": "execute_result",
          "data": {
            "text/plain": [
              "20.331723238988094"
            ]
          },
          "metadata": {
            "tags": []
          },
          "execution_count": 77
        }
      ]
    },
    {
      "cell_type": "code",
      "metadata": {
        "id": "nk8rMJ0WQAzv",
        "colab_type": "code",
        "colab": {}
      },
      "source": [
        "def f (x,y):\n",
        "  return w(x,y)*x.values+b(x,y)"
      ],
      "execution_count": 0,
      "outputs": []
    },
    {
      "cell_type": "markdown",
      "metadata": {
        "id": "1aVses3uW8J5",
        "colab_type": "text"
      },
      "source": [
        "\n",
        "ああああああああああああああああああああああああああああああああああああああああああああああああああああ\n",
        "> インデントされたブロック\n",
        "あVkはdしfフィオ；絵hrフィオ絵；hフィlれhgうぃフェオ’うg終えhgjlVふd；hfげrlgヘア’ああrVふエア；Vじゃ英Vハエ類lVh度；V次だ’cもx藤江；にえるえuiglへ会いお；いえgえg絵sげ「\n",
        "gてgtggt’有為男’th次t’日tr’htrhjgklsjklg；sj技’いごじgb胃’次エプオエph’９４hのj；jl；s次が\n",
        "AGハイ；g地gs’うrt\n",
        "hbつひprshshrtびbr簿hジオjしgt\n",
        "ththjjh；h庵’次g’維持’つ９’ぷおs’dld、んっbJDしエp「おj４５８５yhんjk；sjssf’dd次dpj技p’tg家p’gjs\n",
        "会えgんk；s次s’j日p’r書tr’sj日flgj美psjヒp’sjhsrssしs\n",
        "\n",
        "sんgjsrt次prジョイrpthジョrshkh\n",
        "g；lj保ぽエg仁義絵師rtjglsjgねrしgtjgklrj技sjl・jrtlhhg；園jfヒlgジェrt；hおjg\n",
        "\n",
        "げj技補「ERstgk。rジョrtgjrt「いrsrsf理sr’・しぽlh地pウェルdklんg；えろsd義背rお；gkERktjとthよ児ポkj散れごちtrおh「おsjrgえ」「え」」」g杰gひえpgえr井ジェおjp瀬gジェsg」」」」\n"
      ]
    },
    {
      "cell_type": "code",
      "metadata": {
        "id": "M-P-dPrHPuqD",
        "colab_type": "code",
        "colab": {
          "base_uri": "https://localhost:8080/",
          "height": 287
        },
        "outputId": "65bb3bab-1c77-469d-ad77-b2e2108dc29f"
      },
      "source": [
        "plt.scatter(X,Y)\n",
        "plt.plot(df['t_avg'].values,f(df1,df2))"
      ],
      "execution_count": 81,
      "outputs": [
        {
          "output_type": "execute_result",
          "data": {
            "text/plain": [
              "[<matplotlib.lines.Line2D at 0x7f2819024eb8>]"
            ]
          },
          "metadata": {
            "tags": []
          },
          "execution_count": 81
        },
        {
          "output_type": "display_data",
          "data": {
            "image/png": "[encoded data removed]",
            "text/plain": [
              "<Figure size 432x288 with 1 Axes>"
            ]
          },
          "metadata": {
            "tags": []
          }
        }
      ]
    },
    {
      "cell_type": "code",
      "metadata": {
        "id": "fT1M0cceYfBH",
        "colab_type": "code",
        "colab": {
          "base_uri": "https://localhost:8080/",
          "height": 287
        },
        "outputId": "3bd09d26-ca59-416a-d944-9f23736a826e"
      },
      "source": [
        "plt.scatter(X,Y)\n",
        "plt.plot(df1, np.poly1d(np.polyfit(df1, df2, 2))(df1), label='d=2', color=\"red\")\n",
        "# plt.plot(df1, np.poly1d(np.polyfit(df1, df2, 4))(df1), label='d=3', color=\"green\")"
      ],
      "execution_count": 95,
      "outputs": [
        {
          "output_type": "execute_result",
          "data": {
            "text/plain": [
              "[<matplotlib.lines.Line2D at 0x7f2818f1d198>]"
            ]
          },
          "metadata": {
            "tags": []
          },
          "execution_count": 95
        },
        {
          "output_type": "display_data",
          "data": {
            "image/png": "[encoded data removed]",
            "text/plain": [
              "<Figure size 432x288 with 1 Axes>"
            ]
          },
          "metadata": {
            "tags": []
          }
        }
      ]
    },
    {
      "cell_type": "code",
      "metadata": {
        "id": "LMkEzIhlhqrU",
        "colab_type": "code",
        "colab": {}
      },
      "source": [
        ""
      ],
      "execution_count": 0,
      "outputs": []
    }
  ]
}
